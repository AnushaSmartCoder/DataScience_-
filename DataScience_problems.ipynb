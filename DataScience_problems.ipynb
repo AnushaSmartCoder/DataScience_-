{
 "cells": [
  {
   "cell_type": "code",
   "execution_count": 60,
   "id": "013473fa",
   "metadata": {},
   "outputs": [],
   "source": [
    "import pandas as pd \n",
    "import numpy as np\n",
    "import seaborn as sns\n",
    "import matplotlib.pyplot as plt"
   ]
  },
  {
   "cell_type": "code",
   "execution_count": 61,
   "id": "e6826f4e",
   "metadata": {},
   "outputs": [],
   "source": [
    "df=sns.load_dataset(\"tips\")"
   ]
  },
  {
   "cell_type": "code",
   "execution_count": 62,
   "id": "6a14715b",
   "metadata": {},
   "outputs": [
    {
     "data": {
      "text/html": [
       "<div>\n",
       "<style scoped>\n",
       "    .dataframe tbody tr th:only-of-type {\n",
       "        vertical-align: middle;\n",
       "    }\n",
       "\n",
       "    .dataframe tbody tr th {\n",
       "        vertical-align: top;\n",
       "    }\n",
       "\n",
       "    .dataframe thead th {\n",
       "        text-align: right;\n",
       "    }\n",
       "</style>\n",
       "<table border=\"1\" class=\"dataframe\">\n",
       "  <thead>\n",
       "    <tr style=\"text-align: right;\">\n",
       "      <th></th>\n",
       "      <th>total_bill</th>\n",
       "      <th>tip</th>\n",
       "      <th>sex</th>\n",
       "      <th>smoker</th>\n",
       "      <th>day</th>\n",
       "      <th>time</th>\n",
       "      <th>size</th>\n",
       "    </tr>\n",
       "  </thead>\n",
       "  <tbody>\n",
       "    <tr>\n",
       "      <th>0</th>\n",
       "      <td>16.99</td>\n",
       "      <td>1.01</td>\n",
       "      <td>Female</td>\n",
       "      <td>No</td>\n",
       "      <td>Sun</td>\n",
       "      <td>Dinner</td>\n",
       "      <td>2</td>\n",
       "    </tr>\n",
       "    <tr>\n",
       "      <th>1</th>\n",
       "      <td>10.34</td>\n",
       "      <td>1.66</td>\n",
       "      <td>Male</td>\n",
       "      <td>No</td>\n",
       "      <td>Sun</td>\n",
       "      <td>Dinner</td>\n",
       "      <td>3</td>\n",
       "    </tr>\n",
       "    <tr>\n",
       "      <th>2</th>\n",
       "      <td>21.01</td>\n",
       "      <td>3.50</td>\n",
       "      <td>Male</td>\n",
       "      <td>No</td>\n",
       "      <td>Sun</td>\n",
       "      <td>Dinner</td>\n",
       "      <td>3</td>\n",
       "    </tr>\n",
       "    <tr>\n",
       "      <th>3</th>\n",
       "      <td>23.68</td>\n",
       "      <td>3.31</td>\n",
       "      <td>Male</td>\n",
       "      <td>No</td>\n",
       "      <td>Sun</td>\n",
       "      <td>Dinner</td>\n",
       "      <td>2</td>\n",
       "    </tr>\n",
       "    <tr>\n",
       "      <th>4</th>\n",
       "      <td>24.59</td>\n",
       "      <td>3.61</td>\n",
       "      <td>Female</td>\n",
       "      <td>No</td>\n",
       "      <td>Sun</td>\n",
       "      <td>Dinner</td>\n",
       "      <td>4</td>\n",
       "    </tr>\n",
       "    <tr>\n",
       "      <th>...</th>\n",
       "      <td>...</td>\n",
       "      <td>...</td>\n",
       "      <td>...</td>\n",
       "      <td>...</td>\n",
       "      <td>...</td>\n",
       "      <td>...</td>\n",
       "      <td>...</td>\n",
       "    </tr>\n",
       "    <tr>\n",
       "      <th>239</th>\n",
       "      <td>29.03</td>\n",
       "      <td>5.92</td>\n",
       "      <td>Male</td>\n",
       "      <td>No</td>\n",
       "      <td>Sat</td>\n",
       "      <td>Dinner</td>\n",
       "      <td>3</td>\n",
       "    </tr>\n",
       "    <tr>\n",
       "      <th>240</th>\n",
       "      <td>27.18</td>\n",
       "      <td>2.00</td>\n",
       "      <td>Female</td>\n",
       "      <td>Yes</td>\n",
       "      <td>Sat</td>\n",
       "      <td>Dinner</td>\n",
       "      <td>2</td>\n",
       "    </tr>\n",
       "    <tr>\n",
       "      <th>241</th>\n",
       "      <td>22.67</td>\n",
       "      <td>2.00</td>\n",
       "      <td>Male</td>\n",
       "      <td>Yes</td>\n",
       "      <td>Sat</td>\n",
       "      <td>Dinner</td>\n",
       "      <td>2</td>\n",
       "    </tr>\n",
       "    <tr>\n",
       "      <th>242</th>\n",
       "      <td>17.82</td>\n",
       "      <td>1.75</td>\n",
       "      <td>Male</td>\n",
       "      <td>No</td>\n",
       "      <td>Sat</td>\n",
       "      <td>Dinner</td>\n",
       "      <td>2</td>\n",
       "    </tr>\n",
       "    <tr>\n",
       "      <th>243</th>\n",
       "      <td>18.78</td>\n",
       "      <td>3.00</td>\n",
       "      <td>Female</td>\n",
       "      <td>No</td>\n",
       "      <td>Thur</td>\n",
       "      <td>Dinner</td>\n",
       "      <td>2</td>\n",
       "    </tr>\n",
       "  </tbody>\n",
       "</table>\n",
       "<p>244 rows × 7 columns</p>\n",
       "</div>"
      ],
      "text/plain": [
       "     total_bill   tip     sex smoker   day    time  size\n",
       "0         16.99  1.01  Female     No   Sun  Dinner     2\n",
       "1         10.34  1.66    Male     No   Sun  Dinner     3\n",
       "2         21.01  3.50    Male     No   Sun  Dinner     3\n",
       "3         23.68  3.31    Male     No   Sun  Dinner     2\n",
       "4         24.59  3.61  Female     No   Sun  Dinner     4\n",
       "..          ...   ...     ...    ...   ...     ...   ...\n",
       "239       29.03  5.92    Male     No   Sat  Dinner     3\n",
       "240       27.18  2.00  Female    Yes   Sat  Dinner     2\n",
       "241       22.67  2.00    Male    Yes   Sat  Dinner     2\n",
       "242       17.82  1.75    Male     No   Sat  Dinner     2\n",
       "243       18.78  3.00  Female     No  Thur  Dinner     2\n",
       "\n",
       "[244 rows x 7 columns]"
      ]
     },
     "execution_count": 62,
     "metadata": {},
     "output_type": "execute_result"
    }
   ],
   "source": [
    "df"
   ]
  },
  {
   "cell_type": "code",
   "execution_count": 63,
   "id": "73781acf",
   "metadata": {},
   "outputs": [
    {
     "name": "stdout",
     "output_type": "stream",
     "text": [
      "<class 'pandas.core.frame.DataFrame'>\n",
      "RangeIndex: 244 entries, 0 to 243\n",
      "Data columns (total 7 columns):\n",
      " #   Column      Non-Null Count  Dtype   \n",
      "---  ------      --------------  -----   \n",
      " 0   total_bill  244 non-null    float64 \n",
      " 1   tip         244 non-null    float64 \n",
      " 2   sex         244 non-null    category\n",
      " 3   smoker      244 non-null    category\n",
      " 4   day         244 non-null    category\n",
      " 5   time        244 non-null    category\n",
      " 6   size        244 non-null    int64   \n",
      "dtypes: category(4), float64(2), int64(1)\n",
      "memory usage: 7.1 KB\n"
     ]
    }
   ],
   "source": [
    "df.info()"
   ]
  },
  {
   "cell_type": "code",
   "execution_count": 64,
   "id": "1de343bc",
   "metadata": {},
   "outputs": [
    {
     "data": {
      "text/html": [
       "<div>\n",
       "<style scoped>\n",
       "    .dataframe tbody tr th:only-of-type {\n",
       "        vertical-align: middle;\n",
       "    }\n",
       "\n",
       "    .dataframe tbody tr th {\n",
       "        vertical-align: top;\n",
       "    }\n",
       "\n",
       "    .dataframe thead th {\n",
       "        text-align: right;\n",
       "    }\n",
       "</style>\n",
       "<table border=\"1\" class=\"dataframe\">\n",
       "  <thead>\n",
       "    <tr style=\"text-align: right;\">\n",
       "      <th></th>\n",
       "      <th>total_bill</th>\n",
       "      <th>tip</th>\n",
       "      <th>size</th>\n",
       "    </tr>\n",
       "  </thead>\n",
       "  <tbody>\n",
       "    <tr>\n",
       "      <th>count</th>\n",
       "      <td>244.000000</td>\n",
       "      <td>244.000000</td>\n",
       "      <td>244.000000</td>\n",
       "    </tr>\n",
       "    <tr>\n",
       "      <th>mean</th>\n",
       "      <td>19.785943</td>\n",
       "      <td>2.998279</td>\n",
       "      <td>2.569672</td>\n",
       "    </tr>\n",
       "    <tr>\n",
       "      <th>std</th>\n",
       "      <td>8.902412</td>\n",
       "      <td>1.383638</td>\n",
       "      <td>0.951100</td>\n",
       "    </tr>\n",
       "    <tr>\n",
       "      <th>min</th>\n",
       "      <td>3.070000</td>\n",
       "      <td>1.000000</td>\n",
       "      <td>1.000000</td>\n",
       "    </tr>\n",
       "    <tr>\n",
       "      <th>25%</th>\n",
       "      <td>13.347500</td>\n",
       "      <td>2.000000</td>\n",
       "      <td>2.000000</td>\n",
       "    </tr>\n",
       "    <tr>\n",
       "      <th>50%</th>\n",
       "      <td>17.795000</td>\n",
       "      <td>2.900000</td>\n",
       "      <td>2.000000</td>\n",
       "    </tr>\n",
       "    <tr>\n",
       "      <th>75%</th>\n",
       "      <td>24.127500</td>\n",
       "      <td>3.562500</td>\n",
       "      <td>3.000000</td>\n",
       "    </tr>\n",
       "    <tr>\n",
       "      <th>max</th>\n",
       "      <td>50.810000</td>\n",
       "      <td>10.000000</td>\n",
       "      <td>6.000000</td>\n",
       "    </tr>\n",
       "  </tbody>\n",
       "</table>\n",
       "</div>"
      ],
      "text/plain": [
       "       total_bill         tip        size\n",
       "count  244.000000  244.000000  244.000000\n",
       "mean    19.785943    2.998279    2.569672\n",
       "std      8.902412    1.383638    0.951100\n",
       "min      3.070000    1.000000    1.000000\n",
       "25%     13.347500    2.000000    2.000000\n",
       "50%     17.795000    2.900000    2.000000\n",
       "75%     24.127500    3.562500    3.000000\n",
       "max     50.810000   10.000000    6.000000"
      ]
     },
     "execution_count": 64,
     "metadata": {},
     "output_type": "execute_result"
    }
   ],
   "source": [
    "df.describe()"
   ]
  },
  {
   "cell_type": "code",
   "execution_count": 65,
   "id": "51492e67",
   "metadata": {},
   "outputs": [
    {
     "data": {
      "text/plain": [
       "Index(['total_bill', 'tip', 'sex', 'smoker', 'day', 'time', 'size'], dtype='object')"
      ]
     },
     "execution_count": 65,
     "metadata": {},
     "output_type": "execute_result"
    }
   ],
   "source": [
    "df.columns"
   ]
  },
  {
   "cell_type": "code",
   "execution_count": 66,
   "id": "ac6a62ed",
   "metadata": {},
   "outputs": [
    {
     "data": {
      "text/plain": [
       "(244, 7)"
      ]
     },
     "execution_count": 66,
     "metadata": {},
     "output_type": "execute_result"
    }
   ],
   "source": [
    "df.shape"
   ]
  },
  {
   "cell_type": "markdown",
   "id": "5dca0331",
   "metadata": {},
   "source": [
    "#### 1.find the minimum value of total bill? "
   ]
  },
  {
   "cell_type": "code",
   "execution_count": 67,
   "id": "86f9d20d",
   "metadata": {},
   "outputs": [
    {
     "data": {
      "text/plain": [
       "3.07"
      ]
     },
     "execution_count": 67,
     "metadata": {},
     "output_type": "execute_result"
    }
   ],
   "source": [
    "df['total_bill'].min()"
   ]
  },
  {
   "cell_type": "markdown",
   "id": "e6947242",
   "metadata": {},
   "source": [
    "#### 2.find the maximum value of total_bill?"
   ]
  },
  {
   "cell_type": "code",
   "execution_count": 68,
   "id": "ab1d037c",
   "metadata": {},
   "outputs": [
    {
     "data": {
      "text/plain": [
       "50.81"
      ]
     },
     "execution_count": 68,
     "metadata": {},
     "output_type": "execute_result"
    }
   ],
   "source": [
    "df[\"total_bill\"].max()"
   ]
  },
  {
   "cell_type": "markdown",
   "id": "91a028c0",
   "metadata": {},
   "source": [
    "#### 3.which gender gas offered most valuble tips value is in between 10 and 20 dollors? "
   ]
  },
  {
   "cell_type": "code",
   "execution_count": 69,
   "id": "44c3ac00",
   "metadata": {},
   "outputs": [
    {
     "data": {
      "text/plain": [
       "35.65573770491803"
      ]
     },
     "execution_count": 69,
     "metadata": {},
     "output_type": "execute_result"
    }
   ],
   "source": [
    "x=(df[df[\"sex\"]==\"Female\"].shape[0])/(df.shape[0])*100\n",
    "x\n",
    "y=(df[df[\"sex\"]==\"Female\"].shape[0])/(df.shape[0])*100\n",
    "y\n"
   ]
  },
  {
   "cell_type": "markdown",
   "id": "f9719b90",
   "metadata": {},
   "source": [
    "####  4.what is the active percentage of active sm0kers in the given sample dataset ?"
   ]
  },
  {
   "cell_type": "code",
   "execution_count": 70,
   "id": "c68b9252",
   "metadata": {},
   "outputs": [
    {
     "data": {
      "text/plain": [
       "38.114754098360656"
      ]
     },
     "execution_count": 70,
     "metadata": {},
     "output_type": "execute_result"
    }
   ],
   "source": [
    "(df[df['smoker']=='Yes'].shape[0])/(df.shape[0])*100"
   ]
  },
  {
   "cell_type": "markdown",
   "id": "cfcb0bc5",
   "metadata": {},
   "source": [
    "#### 5. which gender has mostly occupied space when the table size is 3?"
   ]
  },
  {
   "cell_type": "code",
   "execution_count": 71,
   "id": "7276e294",
   "metadata": {
    "scrolled": true
   },
   "outputs": [
    {
     "data": {
      "text/plain": [
       "0    Male\n",
       "Name: sex, dtype: category\n",
       "Categories (2, object): ['Male', 'Female']"
      ]
     },
     "execution_count": 71,
     "metadata": {},
     "output_type": "execute_result"
    }
   ],
   "source": [
    "x=df[df['size']==3]\n",
    "x.sex.mode()"
   ]
  },
  {
   "cell_type": "markdown",
   "id": "fe9084a6",
   "metadata": {},
   "source": [
    "#### 6.  what is the difference amount of data practising with respect to sex?how much higher in compared to opposite sex"
   ]
  },
  {
   "cell_type": "code",
   "execution_count": 72,
   "id": "3d6e166f",
   "metadata": {},
   "outputs": [
    {
     "data": {
      "text/plain": [
       "28.68852459016393"
      ]
     },
     "execution_count": 72,
     "metadata": {},
     "output_type": "execute_result"
    }
   ],
   "source": [
    "X=(df[df['sex']=='Female'].shape[0])/(df.shape[0])*100\n",
    "X\n",
    "Y=(df[df['sex']=='Male'].shape[0])/(df.shape[0])*100\n",
    "\n",
    "Y-X  "
   ]
  },
  {
   "cell_type": "markdown",
   "id": "ad0b32ec",
   "metadata": {},
   "source": [
    "explanation: difference amount of data practising is 28.688543"
   ]
  },
  {
   "cell_type": "markdown",
   "id": "caaeb39c",
   "metadata": {},
   "source": [
    "#### 7.which gender has offered most valubletips when tip value is in between 10dollers and 20 dollers"
   ]
  },
  {
   "cell_type": "code",
   "execution_count": 73,
   "id": "325b64d0",
   "metadata": {},
   "outputs": [
    {
     "data": {
      "text/plain": [
       "35.65573770491803"
      ]
     },
     "execution_count": 73,
     "metadata": {},
     "output_type": "execute_result"
    }
   ],
   "source": [
    "x=(df[df[\"sex\"]==\"Female\"].shape[0])/(df.shape[0])*100\n",
    "x"
   ]
  },
  {
   "cell_type": "code",
   "execution_count": 74,
   "id": "5dfe6bf2",
   "metadata": {},
   "outputs": [
    {
     "data": {
      "text/plain": [
       "64.34426229508196"
      ]
     },
     "execution_count": 74,
     "metadata": {},
     "output_type": "execute_result"
    }
   ],
   "source": [
    "(df[df['sex']=='Male'].shape[0])/(df.shape[0])*100"
   ]
  },
  {
   "cell_type": "markdown",
   "id": "9048dc5a",
   "metadata": {},
   "source": [
    "#### 8.which time of restarant visit is mostly preferred by customers? "
   ]
  },
  {
   "cell_type": "code",
   "execution_count": 75,
   "id": "6d7575a4",
   "metadata": {
    "scrolled": true
   },
   "outputs": [
    {
     "data": {
      "text/plain": [
       "0    Dinner\n",
       "Name: time, dtype: category\n",
       "Categories (2, object): ['Lunch', 'Dinner']"
      ]
     },
     "execution_count": 75,
     "metadata": {},
     "output_type": "execute_result"
    }
   ],
   "source": [
    "df['time'].mode()\n"
   ]
  },
  {
   "cell_type": "markdown",
   "id": "4ba9e5b1",
   "metadata": {},
   "source": [
    "#### 9.do you think fridays has recived highest sale  when compared to other days"
   ]
  },
  {
   "cell_type": "code",
   "execution_count": 76,
   "id": "37cd952c",
   "metadata": {},
   "outputs": [
    {
     "data": {
      "text/plain": [
       "1"
      ]
     },
     "execution_count": 76,
     "metadata": {},
     "output_type": "execute_result"
    }
   ],
   "source": [
    "len(df[df['day']=='Fri'].mode())"
   ]
  },
  {
   "cell_type": "code",
   "execution_count": 77,
   "id": "73068662",
   "metadata": {},
   "outputs": [
    {
     "data": {
      "text/plain": [
       "2"
      ]
     },
     "execution_count": 77,
     "metadata": {},
     "output_type": "execute_result"
    }
   ],
   "source": [
    "len(df[df['day']=='Sat'].mode())"
   ]
  },
  {
   "cell_type": "code",
   "execution_count": 78,
   "id": "89c134f3",
   "metadata": {},
   "outputs": [
    {
     "data": {
      "text/plain": [
       "76"
      ]
     },
     "execution_count": 78,
     "metadata": {},
     "output_type": "execute_result"
    }
   ],
   "source": [
    "len(df[df['day']=='Sun'].mode())"
   ]
  },
  {
   "cell_type": "markdown",
   "id": "3dd0fd31",
   "metadata": {},
   "source": [
    "#### 10.between table sizes 2 and 4 which one has preferred very often? "
   ]
  },
  {
   "cell_type": "code",
   "execution_count": 79,
   "id": "fa913fd8",
   "metadata": {},
   "outputs": [
    {
     "name": "stderr",
     "output_type": "stream",
     "text": [
      "C:\\Users\\SRAM4\\AppData\\Local\\Temp/ipykernel_7576/1280329768.py:1: FutureWarning: Dropping of nuisance columns in DataFrame reductions (with 'numeric_only=None') is deprecated; in a future version this will raise TypeError.  Select only valid columns before calling the reduction.\n",
      "  df[df['size']==2].max()\n"
     ]
    },
    {
     "data": {
      "text/plain": [
       "total_bill    40.55\n",
       "tip            5.85\n",
       "size           2.00\n",
       "dtype: float64"
      ]
     },
     "execution_count": 79,
     "metadata": {},
     "output_type": "execute_result"
    }
   ],
   "source": [
    "df[df['size']==2].max()"
   ]
  },
  {
   "cell_type": "code",
   "execution_count": 80,
   "id": "8c82a8fe",
   "metadata": {},
   "outputs": [
    {
     "name": "stderr",
     "output_type": "stream",
     "text": [
      "C:\\Users\\SRAM4\\AppData\\Local\\Temp/ipykernel_7576/2301191785.py:1: FutureWarning: Dropping of nuisance columns in DataFrame reductions (with 'numeric_only=None') is deprecated; in a future version this will raise TypeError.  Select only valid columns before calling the reduction.\n",
      "  df[df['size']==4].max()\n"
     ]
    },
    {
     "data": {
      "text/plain": [
       "total_bill    48.33\n",
       "tip            9.00\n",
       "size           4.00\n",
       "dtype: float64"
      ]
     },
     "execution_count": 80,
     "metadata": {},
     "output_type": "execute_result"
    }
   ],
   "source": [
    "df[df['size']==4].max()"
   ]
  },
  {
   "cell_type": "markdown",
   "id": "5b9bc940",
   "metadata": {},
   "source": [
    "#### 11.what is the highest bill paid by the sex female ?"
   ]
  },
  {
   "cell_type": "code",
   "execution_count": 81,
   "id": "7d888e87",
   "metadata": {},
   "outputs": [
    {
     "data": {
      "text/plain": [
       "44.3"
      ]
     },
     "execution_count": 81,
     "metadata": {},
     "output_type": "execute_result"
    }
   ],
   "source": [
    "x=df[df['sex']=='Female']\n",
    "max(x['total_bill'])"
   ]
  },
  {
   "cell_type": "code",
   "execution_count": 82,
   "id": "2794fc44",
   "metadata": {},
   "outputs": [
    {
     "data": {
      "text/plain": [
       "50.81"
      ]
     },
     "execution_count": 82,
     "metadata": {},
     "output_type": "execute_result"
    }
   ],
   "source": [
    "x1=df[df['sex']==\"Female\"][\"total_bill\"].max()\n",
    "x1\n",
    "x2=df[df['sex']==\"Male\"][\"total_bill\"].max()\n",
    "x2\n"
   ]
  },
  {
   "cell_type": "code",
   "execution_count": 83,
   "id": "1e90e792",
   "metadata": {},
   "outputs": [
    {
     "name": "stdout",
     "output_type": "stream",
     "text": [
      "-6.510000000000005\n"
     ]
    }
   ],
   "source": [
    "print(x1-x2)"
   ]
  },
  {
   "cell_type": "markdown",
   "id": "a4420359",
   "metadata": {},
   "source": [
    "#### 12.which gender has offered a best tip when his her total bil amount is less than 20 dollars?"
   ]
  },
  {
   "cell_type": "code",
   "execution_count": 84,
   "id": "91c07340",
   "metadata": {},
   "outputs": [
    {
     "data": {
      "text/plain": [
       "0    Male\n",
       "Name: sex, dtype: category\n",
       "Categories (2, object): ['Male', 'Female']"
      ]
     },
     "execution_count": 84,
     "metadata": {},
     "output_type": "execute_result"
    }
   ],
   "source": [
    "x1=df[df['total_bill']>20]\n",
    "x1['sex'].mode()"
   ]
  },
  {
   "cell_type": "markdown",
   "id": "8f94edd4",
   "metadata": {},
   "source": [
    "#### 14.  which day has lowest sale value?"
   ]
  },
  {
   "cell_type": "code",
   "execution_count": 85,
   "id": "364d2b2e",
   "metadata": {},
   "outputs": [
    {
     "data": {
      "text/html": [
       "<div>\n",
       "<style scoped>\n",
       "    .dataframe tbody tr th:only-of-type {\n",
       "        vertical-align: middle;\n",
       "    }\n",
       "\n",
       "    .dataframe tbody tr th {\n",
       "        vertical-align: top;\n",
       "    }\n",
       "\n",
       "    .dataframe thead th {\n",
       "        text-align: right;\n",
       "    }\n",
       "</style>\n",
       "<table border=\"1\" class=\"dataframe\">\n",
       "  <thead>\n",
       "    <tr style=\"text-align: right;\">\n",
       "      <th></th>\n",
       "      <th>total_bill</th>\n",
       "      <th>tip</th>\n",
       "      <th>sex</th>\n",
       "      <th>smoker</th>\n",
       "      <th>day</th>\n",
       "      <th>time</th>\n",
       "      <th>size</th>\n",
       "    </tr>\n",
       "  </thead>\n",
       "  <tbody>\n",
       "    <tr>\n",
       "      <th>0</th>\n",
       "      <td>16.99</td>\n",
       "      <td>1.01</td>\n",
       "      <td>Female</td>\n",
       "      <td>No</td>\n",
       "      <td>Sun</td>\n",
       "      <td>Dinner</td>\n",
       "      <td>2</td>\n",
       "    </tr>\n",
       "    <tr>\n",
       "      <th>4</th>\n",
       "      <td>24.59</td>\n",
       "      <td>3.61</td>\n",
       "      <td>Female</td>\n",
       "      <td>No</td>\n",
       "      <td>Sun</td>\n",
       "      <td>Dinner</td>\n",
       "      <td>4</td>\n",
       "    </tr>\n",
       "    <tr>\n",
       "      <th>11</th>\n",
       "      <td>35.26</td>\n",
       "      <td>5.00</td>\n",
       "      <td>Female</td>\n",
       "      <td>No</td>\n",
       "      <td>Sun</td>\n",
       "      <td>Dinner</td>\n",
       "      <td>4</td>\n",
       "    </tr>\n",
       "    <tr>\n",
       "      <th>14</th>\n",
       "      <td>14.83</td>\n",
       "      <td>3.02</td>\n",
       "      <td>Female</td>\n",
       "      <td>No</td>\n",
       "      <td>Sun</td>\n",
       "      <td>Dinner</td>\n",
       "      <td>2</td>\n",
       "    </tr>\n",
       "    <tr>\n",
       "      <th>16</th>\n",
       "      <td>10.33</td>\n",
       "      <td>1.67</td>\n",
       "      <td>Female</td>\n",
       "      <td>No</td>\n",
       "      <td>Sun</td>\n",
       "      <td>Dinner</td>\n",
       "      <td>3</td>\n",
       "    </tr>\n",
       "    <tr>\n",
       "      <th>...</th>\n",
       "      <td>...</td>\n",
       "      <td>...</td>\n",
       "      <td>...</td>\n",
       "      <td>...</td>\n",
       "      <td>...</td>\n",
       "      <td>...</td>\n",
       "      <td>...</td>\n",
       "    </tr>\n",
       "    <tr>\n",
       "      <th>226</th>\n",
       "      <td>10.09</td>\n",
       "      <td>2.00</td>\n",
       "      <td>Female</td>\n",
       "      <td>Yes</td>\n",
       "      <td>Fri</td>\n",
       "      <td>Lunch</td>\n",
       "      <td>2</td>\n",
       "    </tr>\n",
       "    <tr>\n",
       "      <th>229</th>\n",
       "      <td>22.12</td>\n",
       "      <td>2.88</td>\n",
       "      <td>Female</td>\n",
       "      <td>Yes</td>\n",
       "      <td>Sat</td>\n",
       "      <td>Dinner</td>\n",
       "      <td>2</td>\n",
       "    </tr>\n",
       "    <tr>\n",
       "      <th>238</th>\n",
       "      <td>35.83</td>\n",
       "      <td>4.67</td>\n",
       "      <td>Female</td>\n",
       "      <td>No</td>\n",
       "      <td>Sat</td>\n",
       "      <td>Dinner</td>\n",
       "      <td>3</td>\n",
       "    </tr>\n",
       "    <tr>\n",
       "      <th>240</th>\n",
       "      <td>27.18</td>\n",
       "      <td>2.00</td>\n",
       "      <td>Female</td>\n",
       "      <td>Yes</td>\n",
       "      <td>Sat</td>\n",
       "      <td>Dinner</td>\n",
       "      <td>2</td>\n",
       "    </tr>\n",
       "    <tr>\n",
       "      <th>243</th>\n",
       "      <td>18.78</td>\n",
       "      <td>3.00</td>\n",
       "      <td>Female</td>\n",
       "      <td>No</td>\n",
       "      <td>Thur</td>\n",
       "      <td>Dinner</td>\n",
       "      <td>2</td>\n",
       "    </tr>\n",
       "  </tbody>\n",
       "</table>\n",
       "<p>87 rows × 7 columns</p>\n",
       "</div>"
      ],
      "text/plain": [
       "     total_bill   tip     sex smoker   day    time  size\n",
       "0         16.99  1.01  Female     No   Sun  Dinner     2\n",
       "4         24.59  3.61  Female     No   Sun  Dinner     4\n",
       "11        35.26  5.00  Female     No   Sun  Dinner     4\n",
       "14        14.83  3.02  Female     No   Sun  Dinner     2\n",
       "16        10.33  1.67  Female     No   Sun  Dinner     3\n",
       "..          ...   ...     ...    ...   ...     ...   ...\n",
       "226       10.09  2.00  Female    Yes   Fri   Lunch     2\n",
       "229       22.12  2.88  Female    Yes   Sat  Dinner     2\n",
       "238       35.83  4.67  Female     No   Sat  Dinner     3\n",
       "240       27.18  2.00  Female    Yes   Sat  Dinner     2\n",
       "243       18.78  3.00  Female     No  Thur  Dinner     2\n",
       "\n",
       "[87 rows x 7 columns]"
      ]
     },
     "execution_count": 85,
     "metadata": {},
     "output_type": "execute_result"
    }
   ],
   "source": [
    " X=df[df['day']=='Sun']['total_bill'].min()\n",
    "x"
   ]
  },
  {
   "cell_type": "markdown",
   "id": "bf4bd34f",
   "metadata": {},
   "source": [
    "#### 15   .which gender has offered a best tip when his her total bil amount is less than 20 dollars?"
   ]
  },
  {
   "cell_type": "code",
   "execution_count": 86,
   "id": "0eee09e1",
   "metadata": {
    "scrolled": false
   },
   "outputs": [
    {
     "data": {
      "text/plain": [
       "0    Male\n",
       "Name: sex, dtype: category\n",
       "Categories (2, object): ['Male', 'Female']"
      ]
     },
     "execution_count": 86,
     "metadata": {},
     "output_type": "execute_result"
    }
   ],
   "source": [
    "x1=df[df['total_bill']>20]\n",
    "x1['sex'].mode()"
   ]
  },
  {
   "cell_type": "markdown",
   "id": "55c6887b",
   "metadata": {},
   "source": [
    "#### 16.  which day has lowest sale value?"
   ]
  },
  {
   "cell_type": "code",
   "execution_count": 87,
   "id": "78867766",
   "metadata": {
    "scrolled": true
   },
   "outputs": [
    {
     "data": {
      "text/plain": [
       "7.25"
      ]
     },
     "execution_count": 87,
     "metadata": {},
     "output_type": "execute_result"
    }
   ],
   "source": [
    "X=df[df['day']=='Sun']['total_bill'].min()\n",
    "X"
   ]
  },
  {
   "cell_type": "markdown",
   "id": "4b026942",
   "metadata": {},
   "source": [
    "#### 18.when compared to saturday and sundays which day has higher sale and show both days distribution in single diagram?"
   ]
  },
  {
   "cell_type": "code",
   "execution_count": 88,
   "id": "e57d8fa9",
   "metadata": {},
   "outputs": [],
   "source": [
    "df_sun=df[df['day']=='Sun']['total_bill']\n",
    "df_sat=df[df['day']=='Sat']['total_bill']\n",
    "df_fri=df[df['day']=='Fri']['total_bill']\n",
    "df_thur=df[df['day']=='Tat']['total_bill']"
   ]
  },
  {
   "cell_type": "code",
   "execution_count": 89,
   "id": "d283d7b9",
   "metadata": {},
   "outputs": [
    {
     "data": {
      "text/plain": [
       "<matplotlib.legend.Legend at 0xe313088>"
      ]
     },
     "execution_count": 89,
     "metadata": {},
     "output_type": "execute_result"
    },
    {
     "data": {
      "image/png": "[encoded data removed]",
      "text/plain": [
       "<Figure size 576x576 with 1 Axes>"
      ]
     },
     "metadata": {
      "needs_background": "light"
     },
     "output_type": "display_data"
    }
   ],
   "source": [
    "fig=plt.figure(figsize=(8,8))\n",
    "axes1=fig.add_subplot(2,2,4)\n",
    "axes1.hist([df_sun,df_sat],color=['black','pink'],label=['friday','thursday'])\n",
    "axes1.legend()"
   ]
  },
  {
   "cell_type": "markdown",
   "id": "77beee26",
   "metadata": {},
   "source": [
    "#### 20.who loves smoking mostly and does that effect tip values when compared to non smoking customers?\n"
   ]
  },
  {
   "cell_type": "code",
   "execution_count": 90,
   "id": "53388d28",
   "metadata": {},
   "outputs": [
    {
     "data": {
      "text/plain": [
       "smoker\n",
       "Yes    3.008710\n",
       "No     2.991854\n",
       "Name: tip, dtype: float64"
      ]
     },
     "execution_count": 90,
     "metadata": {},
     "output_type": "execute_result"
    }
   ],
   "source": [
    "df.groupby(['smoker'])['tip'].mean()\n",
    "\n"
   ]
  },
  {
   "cell_type": "markdown",
   "id": "fdd6a1c2",
   "metadata": {},
   "source": [
    "#### 21.during saturdays and sundays which gender has recieved highest  avarage value with respect to lunch  and dinner ?"
   ]
  },
  {
   "cell_type": "code",
   "execution_count": 32,
   "id": "7448907a",
   "metadata": {},
   "outputs": [
    {
     "data": {
      "text/plain": [
       "38.114754098360656"
      ]
     },
     "execution_count": 32,
     "metadata": {},
     "output_type": "execute_result"
    }
   ],
   "source": [
    "(df[df['smoker']=='Yes'].shape[0])/(df.shape[0])*100"
   ]
  },
  {
   "cell_type": "code",
   "execution_count": 95,
   "id": "6e71597c",
   "metadata": {},
   "outputs": [
    {
     "data": {
      "text/html": [
       "<div>\n",
       "<style scoped>\n",
       "    .dataframe tbody tr th:only-of-type {\n",
       "        vertical-align: middle;\n",
       "    }\n",
       "\n",
       "    .dataframe tbody tr th {\n",
       "        vertical-align: top;\n",
       "    }\n",
       "\n",
       "    .dataframe thead th {\n",
       "        text-align: right;\n",
       "    }\n",
       "</style>\n",
       "<table border=\"1\" class=\"dataframe\">\n",
       "  <thead>\n",
       "    <tr style=\"text-align: right;\">\n",
       "      <th></th>\n",
       "      <th>total_bill</th>\n",
       "      <th>tip</th>\n",
       "      <th>sex</th>\n",
       "      <th>smoker</th>\n",
       "      <th>day</th>\n",
       "      <th>time</th>\n",
       "      <th>size</th>\n",
       "    </tr>\n",
       "  </thead>\n",
       "  <tbody>\n",
       "    <tr>\n",
       "      <th>0</th>\n",
       "      <td>16.99</td>\n",
       "      <td>1.01</td>\n",
       "      <td>Female</td>\n",
       "      <td>No</td>\n",
       "      <td>Sun</td>\n",
       "      <td>Dinner</td>\n",
       "      <td>2</td>\n",
       "    </tr>\n",
       "    <tr>\n",
       "      <th>1</th>\n",
       "      <td>10.34</td>\n",
       "      <td>1.66</td>\n",
       "      <td>Male</td>\n",
       "      <td>No</td>\n",
       "      <td>Sun</td>\n",
       "      <td>Dinner</td>\n",
       "      <td>3</td>\n",
       "    </tr>\n",
       "    <tr>\n",
       "      <th>2</th>\n",
       "      <td>21.01</td>\n",
       "      <td>3.50</td>\n",
       "      <td>Male</td>\n",
       "      <td>No</td>\n",
       "      <td>Sun</td>\n",
       "      <td>Dinner</td>\n",
       "      <td>3</td>\n",
       "    </tr>\n",
       "    <tr>\n",
       "      <th>3</th>\n",
       "      <td>23.68</td>\n",
       "      <td>3.31</td>\n",
       "      <td>Male</td>\n",
       "      <td>No</td>\n",
       "      <td>Sun</td>\n",
       "      <td>Dinner</td>\n",
       "      <td>2</td>\n",
       "    </tr>\n",
       "    <tr>\n",
       "      <th>4</th>\n",
       "      <td>24.59</td>\n",
       "      <td>3.61</td>\n",
       "      <td>Female</td>\n",
       "      <td>No</td>\n",
       "      <td>Sun</td>\n",
       "      <td>Dinner</td>\n",
       "      <td>4</td>\n",
       "    </tr>\n",
       "    <tr>\n",
       "      <th>...</th>\n",
       "      <td>...</td>\n",
       "      <td>...</td>\n",
       "      <td>...</td>\n",
       "      <td>...</td>\n",
       "      <td>...</td>\n",
       "      <td>...</td>\n",
       "      <td>...</td>\n",
       "    </tr>\n",
       "    <tr>\n",
       "      <th>239</th>\n",
       "      <td>29.03</td>\n",
       "      <td>5.92</td>\n",
       "      <td>Male</td>\n",
       "      <td>No</td>\n",
       "      <td>Sat</td>\n",
       "      <td>Dinner</td>\n",
       "      <td>3</td>\n",
       "    </tr>\n",
       "    <tr>\n",
       "      <th>240</th>\n",
       "      <td>27.18</td>\n",
       "      <td>2.00</td>\n",
       "      <td>Female</td>\n",
       "      <td>Yes</td>\n",
       "      <td>Sat</td>\n",
       "      <td>Dinner</td>\n",
       "      <td>2</td>\n",
       "    </tr>\n",
       "    <tr>\n",
       "      <th>241</th>\n",
       "      <td>22.67</td>\n",
       "      <td>2.00</td>\n",
       "      <td>Male</td>\n",
       "      <td>Yes</td>\n",
       "      <td>Sat</td>\n",
       "      <td>Dinner</td>\n",
       "      <td>2</td>\n",
       "    </tr>\n",
       "    <tr>\n",
       "      <th>242</th>\n",
       "      <td>17.82</td>\n",
       "      <td>1.75</td>\n",
       "      <td>Male</td>\n",
       "      <td>No</td>\n",
       "      <td>Sat</td>\n",
       "      <td>Dinner</td>\n",
       "      <td>2</td>\n",
       "    </tr>\n",
       "    <tr>\n",
       "      <th>243</th>\n",
       "      <td>18.78</td>\n",
       "      <td>3.00</td>\n",
       "      <td>Female</td>\n",
       "      <td>No</td>\n",
       "      <td>Thur</td>\n",
       "      <td>Dinner</td>\n",
       "      <td>2</td>\n",
       "    </tr>\n",
       "  </tbody>\n",
       "</table>\n",
       "<p>244 rows × 7 columns</p>\n",
       "</div>"
      ],
      "text/plain": [
       "     total_bill   tip     sex smoker   day    time  size\n",
       "0         16.99  1.01  Female     No   Sun  Dinner     2\n",
       "1         10.34  1.66    Male     No   Sun  Dinner     3\n",
       "2         21.01  3.50    Male     No   Sun  Dinner     3\n",
       "3         23.68  3.31    Male     No   Sun  Dinner     2\n",
       "4         24.59  3.61  Female     No   Sun  Dinner     4\n",
       "..          ...   ...     ...    ...   ...     ...   ...\n",
       "239       29.03  5.92    Male     No   Sat  Dinner     3\n",
       "240       27.18  2.00  Female    Yes   Sat  Dinner     2\n",
       "241       22.67  2.00    Male    Yes   Sat  Dinner     2\n",
       "242       17.82  1.75    Male     No   Sat  Dinner     2\n",
       "243       18.78  3.00  Female     No  Thur  Dinner     2\n",
       "\n",
       "[244 rows x 7 columns]"
      ]
     },
     "execution_count": 95,
     "metadata": {},
     "output_type": "execute_result"
    }
   ],
   "source": [
    "df"
   ]
  },
  {
   "cell_type": "code",
   "execution_count": null,
   "id": "540c5844",
   "metadata": {},
   "outputs": [],
   "source": []
  },
  {
   "cell_type": "code",
   "execution_count": null,
   "id": "e07b8f48",
   "metadata": {},
   "outputs": [],
   "source": []
  },
  {
   "cell_type": "markdown",
   "id": "6804f67d",
   "metadata": {},
   "source": [
    "#### 24. find the gender for max tip with minimum total bill value and min tip with max total bill "
   ]
  },
  {
   "cell_type": "code",
   "execution_count": 33,
   "id": "94fd4829",
   "metadata": {},
   "outputs": [
    {
     "data": {
      "text/plain": [
       "sex     smoker\n",
       "Male    Yes       3.051167\n",
       "        No        3.113402\n",
       "Female  Yes       2.931515\n",
       "        No        2.773519\n",
       "Name: tip, dtype: float64"
      ]
     },
     "execution_count": 33,
     "metadata": {},
     "output_type": "execute_result"
    }
   ],
   "source": [
    "df.groupby(['sex','smoker'])['tip'].mean()"
   ]
  },
  {
   "cell_type": "markdown",
   "id": "e84bf059",
   "metadata": {},
   "source": [
    "#### 25.why do you feel sundays total bill distribution is slightly higher than other days ?show plot  and discuss? "
   ]
  },
  {
   "cell_type": "code",
   "execution_count": 34,
   "id": "d6f67339",
   "metadata": {},
   "outputs": [
    {
     "data": {
      "text/plain": [
       "<AxesSubplot:xlabel='sex', ylabel='count'>"
      ]
     },
     "execution_count": 34,
     "metadata": {},
     "output_type": "execute_result"
    },
    {
     "data": {
      "image/png": "[encoded data removed]",
      "text/plain": [
       "<Figure size 432x288 with 1 Axes>"
      ]
     },
     "metadata": {
      "needs_background": "light"
     },
     "output_type": "display_data"
    }
   ],
   "source": [
    "sns.countplot(x=\"sex\",data=df)"
   ]
  },
  {
   "cell_type": "markdown",
   "id": "202b40dd",
   "metadata": {},
   "source": [
    "#### 29.show that total bill avarage of different days in the data?and plot the same data  ?"
   ]
  },
  {
   "cell_type": "code",
   "execution_count": 35,
   "id": "ec3c4793",
   "metadata": {},
   "outputs": [
    {
     "data": {
      "text/plain": [
       "day\n",
       "Thur    17.682742\n",
       "Fri     17.151579\n",
       "Sat     20.441379\n",
       "Sun     21.410000\n",
       "Name: total_bill, dtype: float64"
      ]
     },
     "execution_count": 35,
     "metadata": {},
     "output_type": "execute_result"
    }
   ],
   "source": [
    "df.groupby(\"day\")[\"total_bill\"].mean()"
   ]
  },
  {
   "cell_type": "markdown",
   "id": "eba7ea5e",
   "metadata": {},
   "source": [
    "#### 31.what is mean by scalar operation?and show a example? "
   ]
  },
  {
   "cell_type": "code",
   "execution_count": 36,
   "id": "94b97565",
   "metadata": {
    "scrolled": false
   },
   "outputs": [
    {
     "data": {
      "text/plain": [
       "0      1.699\n",
       "1      1.034\n",
       "2      2.101\n",
       "3      2.368\n",
       "4      2.459\n",
       "       ...  \n",
       "239    2.903\n",
       "240    2.718\n",
       "241    2.267\n",
       "242    1.782\n",
       "243    1.878\n",
       "Name: total_bill, Length: 244, dtype: float64"
      ]
     },
     "execution_count": 36,
     "metadata": {},
     "output_type": "execute_result"
    }
   ],
   "source": [
    "df[\"total_bill\"]/10"
   ]
  },
  {
   "cell_type": "markdown",
   "id": "e7e63d06",
   "metadata": {},
   "source": [
    "#### 32.group the data based on \"sex\"  variable and find their respective avarages and plot the same? "
   ]
  },
  {
   "cell_type": "code",
   "execution_count": 37,
   "id": "bbccc488",
   "metadata": {
    "scrolled": true
   },
   "outputs": [
    {
     "name": "stderr",
     "output_type": "stream",
     "text": [
      "C:\\Users\\SRAM4\\AppData\\Local\\Temp/ipykernel_7576/1563457957.py:1: FutureWarning: Indexing with multiple keys (implicitly converted to a tuple of keys) will be deprecated, use a list instead.\n",
      "  df.groupby(\"sex\")['total_bill','tip'].mean()\n"
     ]
    },
    {
     "data": {
      "text/html": [
       "<div>\n",
       "<style scoped>\n",
       "    .dataframe tbody tr th:only-of-type {\n",
       "        vertical-align: middle;\n",
       "    }\n",
       "\n",
       "    .dataframe tbody tr th {\n",
       "        vertical-align: top;\n",
       "    }\n",
       "\n",
       "    .dataframe thead th {\n",
       "        text-align: right;\n",
       "    }\n",
       "</style>\n",
       "<table border=\"1\" class=\"dataframe\">\n",
       "  <thead>\n",
       "    <tr style=\"text-align: right;\">\n",
       "      <th></th>\n",
       "      <th>total_bill</th>\n",
       "      <th>tip</th>\n",
       "    </tr>\n",
       "    <tr>\n",
       "      <th>sex</th>\n",
       "      <th></th>\n",
       "      <th></th>\n",
       "    </tr>\n",
       "  </thead>\n",
       "  <tbody>\n",
       "    <tr>\n",
       "      <th>Male</th>\n",
       "      <td>20.744076</td>\n",
       "      <td>3.089618</td>\n",
       "    </tr>\n",
       "    <tr>\n",
       "      <th>Female</th>\n",
       "      <td>18.056897</td>\n",
       "      <td>2.833448</td>\n",
       "    </tr>\n",
       "  </tbody>\n",
       "</table>\n",
       "</div>"
      ],
      "text/plain": [
       "        total_bill       tip\n",
       "sex                         \n",
       "Male     20.744076  3.089618\n",
       "Female   18.056897  2.833448"
      ]
     },
     "execution_count": 37,
     "metadata": {},
     "output_type": "execute_result"
    }
   ],
   "source": [
    "df.groupby(\"sex\")['total_bill','tip'].mean()"
   ]
  },
  {
   "cell_type": "markdown",
   "id": "8fd2998a",
   "metadata": {},
   "source": [
    "#### 35.   what is most preferable time when table size is 5? "
   ]
  },
  {
   "cell_type": "code",
   "execution_count": 38,
   "id": "782c435b",
   "metadata": {},
   "outputs": [
    {
     "data": {
      "text/plain": [
       "Dinner    4\n",
       "Lunch     1\n",
       "Name: time, dtype: int64"
      ]
     },
     "execution_count": 38,
     "metadata": {},
     "output_type": "execute_result"
    }
   ],
   "source": [
    "df[df['size']==5]['time'].value_counts()"
   ]
  },
  {
   "cell_type": "markdown",
   "id": "cc1f02b0",
   "metadata": {},
   "source": [
    "#### 36.which day is most preferred when table size is 4? "
   ]
  },
  {
   "cell_type": "code",
   "execution_count": 39,
   "id": "2f1c4a4c",
   "metadata": {},
   "outputs": [
    {
     "data": {
      "text/plain": [
       "Sun     18\n",
       "Sat     13\n",
       "Thur     5\n",
       "Fri      1\n",
       "Name: day, dtype: int64"
      ]
     },
     "execution_count": 39,
     "metadata": {},
     "output_type": "execute_result"
    }
   ],
   "source": [
    "df[df['size']==4]['day'].value_counts()"
   ]
  },
  {
   "cell_type": "markdown",
   "id": "f720b933",
   "metadata": {},
   "source": [
    "#### 37.when saturdays which two table sizes are mostly preferred? "
   ]
  },
  {
   "cell_type": "code",
   "execution_count": 40,
   "id": "86e9c037",
   "metadata": {
    "scrolled": true
   },
   "outputs": [
    {
     "data": {
      "text/plain": [
       "2    53\n",
       "3    18\n",
       "4    13\n",
       "1     2\n",
       "5     1\n",
       "Name: size, dtype: int64"
      ]
     },
     "execution_count": 40,
     "metadata": {},
     "output_type": "execute_result"
    }
   ],
   "source": [
    "df[df['day']=='Sat']['size'].value_counts()"
   ]
  },
  {
   "cell_type": "markdown",
   "id": "db55d873",
   "metadata": {},
   "source": [
    "#### 38.which day is more preferred for lunch by female group?"
   ]
  },
  {
   "cell_type": "code",
   "execution_count": 41,
   "id": "2df34aa9",
   "metadata": {},
   "outputs": [
    {
     "data": {
      "text/plain": [
       "0    Thur\n",
       "Name: day, dtype: category\n",
       "Categories (4, object): ['Thur', 'Fri', 'Sat', 'Sun']"
      ]
     },
     "execution_count": 41,
     "metadata": {},
     "output_type": "execute_result"
    }
   ],
   "source": [
    "df[df['sex']=='Female']['day'].mode()"
   ]
  },
  {
   "cell_type": "markdown",
   "id": "277ee656",
   "metadata": {},
   "source": [
    "#### 39. which day is most preferred for lunch time?"
   ]
  },
  {
   "cell_type": "code",
   "execution_count": 42,
   "id": "d8d88570",
   "metadata": {},
   "outputs": [
    {
     "data": {
      "text/plain": [
       "0    Thur\n",
       "Name: day, dtype: category\n",
       "Categories (4, object): ['Thur', 'Fri', 'Sat', 'Sun']"
      ]
     },
     "execution_count": 42,
     "metadata": {},
     "output_type": "execute_result"
    }
   ],
   "source": [
    "df[df['time']=='Lunch']['day'].mode()"
   ]
  },
  {
   "cell_type": "code",
   "execution_count": 43,
   "id": "811a78a5",
   "metadata": {
    "scrolled": true
   },
   "outputs": [
    {
     "data": {
      "text/plain": [
       "Thur    61\n",
       "Fri      7\n",
       "Sat      0\n",
       "Sun      0\n",
       "Name: day, dtype: int64"
      ]
     },
     "execution_count": 43,
     "metadata": {},
     "output_type": "execute_result"
    }
   ],
   "source": [
    "df[df['time']=='Lunch']['day'].value_counts()"
   ]
  },
  {
   "cell_type": "markdown",
   "id": "23fb82f9",
   "metadata": {},
   "source": [
    "#### 49.discuss your ideology and critics of why female has less smoking data compared to male "
   ]
  },
  {
   "cell_type": "code",
   "execution_count": 44,
   "id": "992de924",
   "metadata": {
    "scrolled": true
   },
   "outputs": [
    {
     "name": "stderr",
     "output_type": "stream",
     "text": [
      "C:\\Users\\SRAM4\\AppData\\Local\\Temp/ipykernel_7576/3559753076.py:1: UserWarning: Boolean Series key will be reindexed to match DataFrame index.\n",
      "  len(df[df['sex']=='Female'][df['smoker']=='Yes'])\n"
     ]
    },
    {
     "data": {
      "text/plain": [
       "33"
      ]
     },
     "execution_count": 44,
     "metadata": {},
     "output_type": "execute_result"
    }
   ],
   "source": [
    "len(df[df['sex']=='Female'][df['smoker']=='Yes'])"
   ]
  },
  {
   "cell_type": "code",
   "execution_count": 45,
   "id": "0d25c2b4",
   "metadata": {
    "scrolled": true
   },
   "outputs": [
    {
     "name": "stderr",
     "output_type": "stream",
     "text": [
      "C:\\Users\\SRAM4\\AppData\\Local\\Temp/ipykernel_7576/2717393118.py:1: UserWarning: Boolean Series key will be reindexed to match DataFrame index.\n",
      "  len(df[df['sex']=='Male'][df['smoker']=='Yes'])\n"
     ]
    },
    {
     "data": {
      "text/plain": [
       "60"
      ]
     },
     "execution_count": 45,
     "metadata": {},
     "output_type": "execute_result"
    }
   ],
   "source": [
    "len(df[df['sex']=='Male'][df['smoker']=='Yes'])"
   ]
  },
  {
   "cell_type": "markdown",
   "id": "da2a7c00",
   "metadata": {},
   "source": [
    "#### 41.  how much each value of total_bill is far from its mean(avarage)? "
   ]
  },
  {
   "cell_type": "code",
   "execution_count": 46,
   "id": "716918fd",
   "metadata": {},
   "outputs": [
    {
     "data": {
      "text/plain": [
       "array([ 2.79594262e+00,  9.44594262e+00, -1.22405738e+00, -3.89405738e+00,\n",
       "       -4.80405738e+00, -5.50405738e+00,  1.10159426e+01, -7.09405738e+00,\n",
       "        4.74594262e+00,  5.00594262e+00,  9.51594262e+00, -1.54740574e+01,\n",
       "        4.36594262e+00,  1.35594262e+00,  4.95594262e+00, -1.79405738e+00,\n",
       "        9.45594262e+00,  3.49594262e+00,  2.81594262e+00, -8.64057377e-01,\n",
       "        1.86594262e+00, -5.04057377e-01,  4.01594262e+00, -1.96340574e+01,\n",
       "       -3.40573770e-02,  1.97594262e+00,  6.41594262e+00,  7.09594262e+00,\n",
       "       -1.91405738e+00,  1.35942623e-01,  1.02359426e+01,  1.43594262e+00,\n",
       "        4.72594262e+00, -9.04057377e-01,  2.00594262e+00, -4.27405738e+00,\n",
       "        3.47594262e+00,  2.85594262e+00,  1.09594262e+00, -1.14840574e+01,\n",
       "        3.74594262e+00,  2.32594262e+00,  5.84594262e+00,  1.01059426e+01,\n",
       "       -1.06140574e+01,  1.49594262e+00, -2.44405738e+00, -1.26140574e+01,\n",
       "       -8.76405738e+00,  1.74594262e+00,  7.24594262e+00,  9.49594262e+00,\n",
       "       -1.50240574e+01,  9.84594262e+00, -5.77405738e+00,  2.95942623e-01,\n",
       "       -1.82240574e+01, -6.62405738e+00,  8.54594262e+00, -2.84840574e+01,\n",
       "        5.97594262e+00,  8.76594262e+00,  2.19594262e+00, -2.94057377e-01,\n",
       "        3.33594262e+00,  1.67159426e+01, -4.44057377e-01,  4.77594262e+00,\n",
       "        7.76594262e+00,  2.71594262e+00, -7.07405738e+00, -5.49405738e+00,\n",
       "        5.05594262e+00,  9.27594262e+00, -7.41405738e+00, -2.97405738e+00,\n",
       "        2.49594262e+00,  3.45942623e-01,  3.12594262e+00,  9.71594262e+00,\n",
       "       -1.28940574e+01,  3.80594262e+00, -1.50440574e+01,  6.75594262e+00,\n",
       "        1.50594262e+00, -4.92405738e+00, -1.37405738e+00, -9.18405738e+00,\n",
       "       -2.70405738e+00,  1.40359426e+01,  3.46594262e+00, -2.96405738e+00,\n",
       "       -2.03840574e+01, -7.49405738e+00,  7.75594262e+00,  7.32594262e+00,\n",
       "        8.43594262e+00,  4.40594262e+00, -2.45140574e+01, -2.63405738e+00,\n",
       "       -1.13405738e+00,  4.42594262e+00, -7.04057377e-01, -5.42405738e+00,\n",
       "        1.54594262e+00,  5.47594262e+00,  5.78594262e+00,  1.25359426e+01,\n",
       "       -1.82840574e+01, -4.16405738e+00, -5.92405738e+00,  2.47594262e+00,\n",
       "       -1.01440574e+01,  9.13594262e+00,  7.35594262e+00, -4.29405738e+00,\n",
       "        8.09594262e+00,  6.36594262e+00,  5.52594262e+00,  3.83594262e+00,\n",
       "        7.30594262e+00, -1.00140574e+01,  1.12659426e+01,  5.26594262e+00,\n",
       "        8.40594262e+00, -3.03405738e+00,  7.05942623e-01, -4.84057377e-01,\n",
       "        8.61594262e+00,  7.52594262e+00,  1.52594262e+00,  1.12759426e+01,\n",
       "        5.63594262e+00,  3.78594262e+00,  6.62594262e+00,  2.31594262e+00,\n",
       "       -1.45140574e+01, -2.14040574e+01, -7.26405738e+00,  3.35594262e+00,\n",
       "        1.14359426e+01,  1.14594262e+00,  7.91594262e+00,  1.00059426e+01,\n",
       "        1.22759426e+01,  5.71594262e+00,  6.65594262e+00,  2.52594262e+00,\n",
       "       -4.76405738e+00,  1.59426230e-02, -1.00640574e+01, -2.83840574e+01,\n",
       "       -5.21405738e+00,  6.39594262e+00,  3.29594262e+00, -1.71405738e+00,\n",
       "        7.12594262e+00,  3.57594262e+00,  2.27594262e+00, -4.73405738e+00,\n",
       "       -9.74057377e-01, -1.19240574e+01,  9.19594262e+00,  9.15594262e+00,\n",
       "       -3.10240574e+01,  3.97594262e+00, -1.20640574e+01,  2.96594262e+00,\n",
       "       -1.31140574e+01,  1.89594262e+00,  5.30594262e+00,  1.01859426e+01,\n",
       "       -1.48440574e+01, -1.48640574e+01, -3.54405738e+00, -2.55640574e+01,\n",
       "       -3.38405738e+00, -2.07640574e+01, -1.11405738e+00, -1.06740574e+01,\n",
       "        1.63594262e+00, -3.31405738e+00,  4.09594262e+00, -2.40573770e-02,\n",
       "       -8.65405738e+00,  4.30594262e+00,  3.20594262e+00,  1.22259426e+01,\n",
       "       -2.33240574e+01,  6.78594262e+00,  6.27594262e+00,  1.07594262e+00,\n",
       "        7.04594262e+00,  3.38594262e+00, -7.44057377e-01,  3.31594262e+00,\n",
       "       -6.80405738e+00, -1.89440574e+01, -4.48405738e+00,  7.02594262e+00,\n",
       "       -1.02740574e+01, -6.10405738e+00, -2.85440574e+01,  6.51594262e+00,\n",
       "       -8.38405738e+00,  6.88594262e+00, -8.36405738e+00,  8.19594262e+00,\n",
       "        1.20459426e+01, -1.03540574e+01,  7.62594262e+00,  1.12059426e+01,\n",
       "        3.51594262e+00,  9.69594262e+00, -6.64057377e-01,  6.50594262e+00,\n",
       "       -2.33405738e+00, -4.22405738e+00,  8.17594262e+00,  9.01594262e+00,\n",
       "        4.25594262e+00,  7.18594262e+00, -1.30440574e+01, -1.60440574e+01,\n",
       "       -9.24405738e+00, -7.39405738e+00, -2.88405738e+00,  1.96594262e+00,\n",
       "        1.00594262e+00])"
      ]
     },
     "execution_count": 46,
     "metadata": {},
     "output_type": "execute_result"
    }
   ],
   "source": [
    "df['total_bill'].mean()-df['total_bill'].unique()"
   ]
  },
  {
   "cell_type": "code",
   "execution_count": 47,
   "id": "9c842380",
   "metadata": {
    "scrolled": true
   },
   "outputs": [
    {
     "data": {
      "text/plain": [
       "<AxesSubplot:xlabel='total_bill', ylabel='tip'>"
      ]
     },
     "execution_count": 47,
     "metadata": {},
     "output_type": "execute_result"
    },
    {
     "data": {
      "image/png": "[encoded data removed]",
      "text/plain": [
       "<Figure size 576x432 with 1 Axes>"
      ]
     },
     "metadata": {
      "needs_background": "light"
     },
     "output_type": "display_data"
    }
   ],
   "source": [
    "#sns.regplot(x=\"total_bill\",y=\"tip\",data=df)\n",
    "figure= plt.figure(figsize=(8,6))\n",
    "sns.regplot(x=\"total_bill\",y=\"tip\",data=df)\n",
    "#fig=figure(figsize=(8,11))"
   ]
  },
  {
   "cell_type": "code",
   "execution_count": 48,
   "id": "950c0327",
   "metadata": {},
   "outputs": [
    {
     "data": {
      "text/plain": [
       "<seaborn.axisgrid.JointGrid at 0xfb410b8>"
      ]
     },
     "execution_count": 48,
     "metadata": {},
     "output_type": "execute_result"
    },
    {
     "data": {
      "text/plain": [
       "<Figure size 288x576 with 0 Axes>"
      ]
     },
     "metadata": {},
     "output_type": "display_data"
    },
    {
     "data": {
      "image/png": "[encoded data removed]",
      "text/plain": [
       "<Figure size 432x432 with 3 Axes>"
      ]
     },
     "metadata": {
      "needs_background": "light"
     },
     "output_type": "display_data"
    }
   ],
   "source": [
    "plt.figure(figsize=(4,8))\n",
    "sns.jointplot(x=\"sex\",y=\"tip\",data=df)"
   ]
  },
  {
   "cell_type": "code",
   "execution_count": 49,
   "id": "2752773e",
   "metadata": {},
   "outputs": [
    {
     "data": {
      "text/plain": [
       "<seaborn.axisgrid.PairGrid at 0xfc00700>"
      ]
     },
     "execution_count": 49,
     "metadata": {},
     "output_type": "execute_result"
    },
    {
     "data": {
      "image/png": "[encoded data removed]",
      "text/plain": [
       "<Figure size 540x540 with 12 Axes>"
      ]
     },
     "metadata": {
      "needs_background": "light"
     },
     "output_type": "display_data"
    }
   ],
   "source": [
    "\n",
    "sns.pairplot(df)"
   ]
  },
  {
   "cell_type": "code",
   "execution_count": 50,
   "id": "d6d5b8ea",
   "metadata": {},
   "outputs": [
    {
     "data": {
      "text/plain": [
       "<AxesSubplot:xlabel='total_bill', ylabel='tip'>"
      ]
     },
     "execution_count": 50,
     "metadata": {},
     "output_type": "execute_result"
    },
    {
     "data": {
      "image/png": "[encoded data removed]",
      "text/plain": [
       "<Figure size 432x576 with 1 Axes>"
      ]
     },
     "metadata": {
      "needs_background": "light"
     },
     "output_type": "display_data"
    }
   ],
   "source": [
    "plt.figure(figsize=(6,8))\n",
    "sns.boxplot(x=\"total_bill\",y=\"tip\",data=df)\n"
   ]
  },
  {
   "cell_type": "code",
   "execution_count": 51,
   "id": "ff0b8ba8",
   "metadata": {},
   "outputs": [
    {
     "data": {
      "text/plain": [
       "<AxesSubplot:xlabel='total_bill', ylabel='day'>"
      ]
     },
     "execution_count": 51,
     "metadata": {},
     "output_type": "execute_result"
    },
    {
     "data": {
      "image/png": "[encoded data removed]",
      "text/plain": [
       "<Figure size 432x648 with 1 Axes>"
      ]
     },
     "metadata": {
      "needs_background": "light"
     },
     "output_type": "display_data"
    }
   ],
   "source": [
    "plt.figure(figsize=(6,9))\n",
    "sns.scatterplot(x=\"total_bill\",y=\"day\",data=df)"
   ]
  },
  {
   "cell_type": "code",
   "execution_count": 52,
   "id": "db9e5119",
   "metadata": {},
   "outputs": [
    {
     "data": {
      "text/plain": [
       "<AxesSubplot:xlabel='total_bill', ylabel='sex'>"
      ]
     },
     "execution_count": 52,
     "metadata": {},
     "output_type": "execute_result"
    },
    {
     "data": {
      "image/png": "[encoded data removed]",
      "text/plain": [
       "<Figure size 432x648 with 1 Axes>"
      ]
     },
     "metadata": {
      "needs_background": "light"
     },
     "output_type": "display_data"
    }
   ],
   "source": [
    "plt.figure(figsize=(6,9))\n",
    "sns.scatterplot(x=\"total_bill\",y=\"sex\",data=df)"
   ]
  },
  {
   "cell_type": "code",
   "execution_count": 53,
   "id": "6627d8b7",
   "metadata": {
    "scrolled": false
   },
   "outputs": [
    {
     "data": {
      "text/plain": [
       "<AxesSubplot:>"
      ]
     },
     "execution_count": 53,
     "metadata": {},
     "output_type": "execute_result"
    },
    {
     "data": {
      "image/png": "[encoded data removed]",
      "text/plain": [
       "<Figure size 432x648 with 2 Axes>"
      ]
     },
     "metadata": {
      "needs_background": "light"
     },
     "output_type": "display_data"
    }
   ],
   "source": [
    "plt.figure(figsize=(6,9))\n",
    "sns.heatmap( df.corr())"
   ]
  },
  {
   "cell_type": "markdown",
   "id": "b3e721da",
   "metadata": {},
   "source": [
    "### barplot"
   ]
  },
  {
   "cell_type": "code",
   "execution_count": 54,
   "id": "e4b75016",
   "metadata": {
    "scrolled": true
   },
   "outputs": [
    {
     "data": {
      "text/plain": [
       "<AxesSubplot:>"
      ]
     },
     "execution_count": 54,
     "metadata": {},
     "output_type": "execute_result"
    },
    {
     "data": {
      "image/png": "[encoded data removed]",
      "text/plain": [
       "<Figure size 432x288 with 1 Axes>"
      ]
     },
     "metadata": {
      "needs_background": "light"
     },
     "output_type": "display_data"
    }
   ],
   "source": [
    "df['total_bill'].plot.bar()"
   ]
  },
  {
   "cell_type": "code",
   "execution_count": 55,
   "id": "09176a5a",
   "metadata": {
    "scrolled": true
   },
   "outputs": [
    {
     "data": {
      "text/plain": [
       "<AxesSubplot:>"
      ]
     },
     "execution_count": 55,
     "metadata": {},
     "output_type": "execute_result"
    },
    {
     "data": {
      "image/png": "[encoded data removed]",
      "text/plain": [
       "<Figure size 432x288 with 1 Axes>"
      ]
     },
     "metadata": {
      "needs_background": "light"
     },
     "output_type": "display_data"
    }
   ],
   "source": [
    "df['total_bill'].plot.area()"
   ]
  },
  {
   "cell_type": "code",
   "execution_count": 56,
   "id": "c8d30f41",
   "metadata": {
    "scrolled": true
   },
   "outputs": [
    {
     "data": {
      "text/plain": [
       "<AxesSubplot:ylabel='Frequency'>"
      ]
     },
     "execution_count": 56,
     "metadata": {},
     "output_type": "execute_result"
    },
    {
     "data": {
      "image/png": "[encoded data removed]",
      "text/plain": [
       "<Figure size 432x288 with 1 Axes>"
      ]
     },
     "metadata": {
      "needs_background": "light"
     },
     "output_type": "display_data"
    }
   ],
   "source": [
    "df['total_bill'].plot.hist()"
   ]
  },
  {
   "cell_type": "code",
   "execution_count": 57,
   "id": "859f7166",
   "metadata": {},
   "outputs": [
    {
     "data": {
      "text/plain": [
       "<AxesSubplot:xlabel='time', ylabel='total_bill'>"
      ]
     },
     "execution_count": 57,
     "metadata": {},
     "output_type": "execute_result"
    },
    {
     "data": {
      "image/png": "[encoded data removed]",
      "text/plain": [
       "<Figure size 288x360 with 1 Axes>"
      ]
     },
     "metadata": {
      "needs_background": "light"
     },
     "output_type": "display_data"
    }
   ],
   "source": [
    "plt.figure(figsize=(4,5))\n",
    "sns.boxplot(x=\"time\",y=\"total_bill\",data=df)"
   ]
  },
  {
   "cell_type": "code",
   "execution_count": 58,
   "id": "87795cb1",
   "metadata": {},
   "outputs": [
    {
     "data": {
      "text/plain": [
       "<AxesSubplot:xlabel='time', ylabel='total_bill'>"
      ]
     },
     "execution_count": 58,
     "metadata": {},
     "output_type": "execute_result"
    },
    {
     "data": {
      "image/png": "[encoded data removed]",
      "text/plain": [
       "<Figure size 288x360 with 1 Axes>"
      ]
     },
     "metadata": {
      "needs_background": "light"
     },
     "output_type": "display_data"
    }
   ],
   "source": [
    "plt.figure(figsize=(4,5))\n",
    "sns.barplot(x=\"time\",y=\"total_bill\",  data=df)"
   ]
  },
  {
   "cell_type": "code",
   "execution_count": 59,
   "id": "ffda5424",
   "metadata": {
    "scrolled": true
   },
   "outputs": [
    {
     "data": {
      "text/plain": [
       "<AxesSubplot:xlabel='day', ylabel='total_bill'>"
      ]
     },
     "execution_count": 59,
     "metadata": {},
     "output_type": "execute_result"
    },
    {
     "data": {
      "image/png": "[encoded data removed]",
      "text/plain": [
       "<Figure size 288x360 with 1 Axes>"
      ]
     },
     "metadata": {
      "needs_background": "light"
     },
     "output_type": "display_data"
    }
   ],
   "source": [
    "plt.figure(figsize=(4,5))\n",
    "sns.barplot(x=\"day\",y=\"total_bill\",  data=df) "
   ]
  },
  {
   "cell_type": "code",
   "execution_count": null,
   "id": "a5cd0a42",
   "metadata": {},
   "outputs": [],
   "source": []
  }
 ],
 "metadata": {
  "kernelspec": {
   "display_name": "Python 3 (ipykernel)",
   "language": "python",
   "name": "python3"
  },
  "language_info": {
   "codemirror_mode": {
    "name": "ipython",
    "version": 3
   },
   "file_extension": ".py",
   "mimetype": "text/x-python",
   "name": "python",
   "nbconvert_exporter": "python",
   "pygments_lexer": "ipython3",
   "version": "3.9.9"
  }
 },
 "nbformat": 4,
 "nbformat_minor": 5
}
